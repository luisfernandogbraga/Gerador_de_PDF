{
 "cells": [
  {
   "cell_type": "code",
   "execution_count": null,
   "metadata": {},
   "outputs": [],
   "source": [
    "! pip install fpdf"
   ]
  },
  {
   "cell_type": "code",
   "execution_count": null,
   "metadata": {},
   "outputs": [],
   "source": [
    "\n",
    "from fpdf import FPDF\n",
    "\n",
    "projeto= input('Digite a descrisão do projeto: ')\n",
    "horas_previstas= input('Digite a quantidade de horas previstas: ')\n",
    "valor_hora= input('Digite o valor da hora trabalhada: ')\n",
    "prazo= input('Digite o prazo estimado: ')\n",
    "\n",
    "valor_total= int(horas_previstas) * int(valor_hora) # convertendo str em int, aqui é um calculo tem que passar para numero\n",
    "\n",
    "\n",
    "pdf = FPDF() # cria um pdf\n",
    "pdf.add_page() # add um pagina\n",
    "pdf.set_font('Arial') # tipo da fonte\n",
    "pdf.image('template.png', x=0, y=0) # layout do pdf, x=0 e y=0 é pra começar de cima para baixo\n",
    "\n",
    "#coordenadas ( cada template tem a sua ) o template tem que estár na mesma pasta do arquivo ipynb\n",
    "pdf.text(115, 145, projeto)\n",
    "pdf.text(115, 160, horas_previstas)\n",
    "pdf.text(115, 175, valor_hora)\n",
    "pdf.text(115, 190, prazo)\n",
    "pdf.text(115, 205, str(valor_total)) # convertendo para str aqui só aceita texto\n",
    "\n",
    "pdf.output('Orçamento.pdf')\n",
    "\n",
    "\n"
   ]
  }
 ],
 "metadata": {
  "kernelspec": {
   "display_name": "Python 3",
   "language": "python",
   "name": "python3"
  },
  "language_info": {
   "codemirror_mode": {
    "name": "ipython",
    "version": 3
   },
   "file_extension": ".py",
   "mimetype": "text/x-python",
   "name": "python",
   "nbconvert_exporter": "python",
   "pygments_lexer": "ipython3",
   "version": "3.11.2"
  }
 },
 "nbformat": 4,
 "nbformat_minor": 2
}
